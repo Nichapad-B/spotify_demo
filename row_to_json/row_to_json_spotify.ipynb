{
    "metadata": {
        "kernelspec": {
            "name": "SQL",
            "display_name": "SQL",
            "language": "sql"
        },
        "language_info": {
            "name": "sql",
            "version": ""
        },
        "extensions": {
            "azuredatastudio": {
                "version": 1,
                "views": []
            }
        }
    },
    "nbformat_minor": 2,
    "nbformat": 4,
    "cells": [
        {
            "cell_type": "markdown",
            "source": [
                "## Extra Point\r\n",
                "### row_to_json"
            ],
            "metadata": {
                "azdata_cell_guid": "7bfe4a3d-6e41-4681-a075-08027a49edb9"
            }
        },
        {
            "cell_type": "code",
            "source": [
                "copy (\r\n",
                "    with cte as(\r\n",
                "        with t1 as(    \r\n",
                "            SELECT b.name \"artist_name\", artistid, c.name \"song_name\", sum(stream) \"stream\", no_followers \"followers\"\r\n",
                "                from song_artist a\r\n",
                "            inner join artist b on a.artist_artistid = b.artistid\r\n",
                "            inner join song c on a.song_songid = c.songid\r\n",
                "                GROUP BY b.name, artistid, c.name\r\n",
                "                ORDER BY stream DESC\r\n",
                "        ),t2 as(\r\n",
                "        SELECT  artistid, artist_name, song_name, stream, followers,\r\n",
                "                rank() over w as rank\r\n",
                "            from t1 \r\n",
                "            GROUP BY artist_name, artistid, song_name, stream, followers\r\n",
                "            window w as (PARTITION by artistid, artist_name ORDER BY artistid, artist_name, stream desc)\r\n",
                "        )\r\n",
                "\r\n",
                "        SELECT  artistid, artist_name, song_name,\r\n",
                "                to_char(stream, '999G999G999') \"total_stream\",\r\n",
                "                to_char(followers, '999G999G999') \"no_followers\"\r\n",
                "                \r\n",
                "        from t2 \r\n",
                "            where rank=1\r\n",
                "    )\r\n",
                "\r\n",
                "    SELECT row_to_json(cte) from cte\r\n",
                ") to 'C:/Users/HP/Desktop/pj_database/row_to_json_1'"
            ],
            "metadata": {
                "azdata_cell_guid": "f6ab2fba-6eba-439b-bfd1-01e629fe8f0b",
                "tags": []
            },
            "outputs": [
                {
                    "output_type": "display_data",
                    "data": {
                        "text/html": "Commands completed successfully"
                    },
                    "metadata": {}
                },
                {
                    "output_type": "display_data",
                    "data": {
                        "text/html": "Total execution time: 00:00:00.041"
                    },
                    "metadata": {}
                }
            ],
            "execution_count": 16
        },
        {
            "cell_type": "code",
            "source": [
                "COPY(\r\n",
                "    with cte as(\r\n",
                "        with yau as \r\n",
                "            (SELECT *, \"ad\" + \"premium\" \"total\" from \r\n",
                "                (SELECT year, a.yearly_active_users \"ad\"\r\n",
                "                from revenue_ad_supported a) a1\r\n",
                "                inner join \r\n",
                "                (select year, b.yearly_active_users \"premium\" \r\n",
                "                from revenue_premium b ) b1\r\n",
                "                USING (year) )\r\n",
                "        SELECT year, to_char(ad,'999G999G999') \"yearly active user ad\", to_char(premium,'999G999G999') \"yearly active user premium\", \r\n",
                "        to_char((total / 365), '999G999') \"user per day\"\r\n",
                "        from yau\r\n",
                "    )\r\n",
                "\r\n",
                "    SELECT row_to_json(cte) from cte\r\n",
                ") to 'C:/Users/HP/Desktop/pj_database/row_to_json_2'"
            ],
            "metadata": {
                "azdata_cell_guid": "e63386ea-3ab8-4f14-abbe-674cc12b0ea9"
            },
            "outputs": [
                {
                    "output_type": "display_data",
                    "data": {
                        "text/html": "Commands completed successfully"
                    },
                    "metadata": {}
                },
                {
                    "output_type": "display_data",
                    "data": {
                        "text/html": "Total execution time: 00:00:00.002"
                    },
                    "metadata": {}
                }
            ],
            "execution_count": 15
        }
    ]
}